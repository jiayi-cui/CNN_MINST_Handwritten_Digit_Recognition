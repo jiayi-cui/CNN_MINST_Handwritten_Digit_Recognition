{
 "cells": [
  {
   "cell_type": "markdown",
   "metadata": {},
   "source": [
    "## Group project: implement a hand digit recognition classifier using CNN in Keras(TensorFlow Backend)\n",
    "\n",
    "Due on Sunday,May 6th (11:59PM) \n",
    "\n",
    "### Group Members (UNI & Name):\n",
    "yg2499, Yang GAO <br>\n",
    "jc4884, Jiayi CUI <br>\n",
    "qz2317, Qingyang ZHONG\n",
    "\n",
    "### Requirement\n",
    "* Try to understand the following link (https://www.tensorflow.org/tutorials/layers) and implement CNN classifier for MNIST data by adding extra layers or tuning the model.(Accuracy is not important, but implementation is must) <br>\n",
    "* Download the dataset from following link (http://yann.lecun.com/exdb/mnist/). It has both training and test data. If it is computationally expensive, try to use 50% of the data to fit the model.<br>\n",
    "* Implement the model in Python3.<br>\n",
    "* Please cite, if you use any existing code or resources.\n",
    "* Helpful Resources<br>\n",
    "• http://cs231n.github.io/convolutional-networks/ <br>\n",
    "• https://adeshpande3.github.io/A-Beginner%27sGuide-To-Understanding-Convolutional-NeuralNetworks/ <br>\n",
    "• https://ujjwalkarn.me/2016/08/11/intuitiveexplanation-convnets/  <br>\n",
    "• https://xrds.acm.org/blog/2016/06/convolutionalneural-networks-cnns-illustrated-explanation/ <br>\n",
    "• https://cambridgespark.com/content/tutorials/convolutional-neural-networks-with-keras/index.html\n",
    "\n",
    "\n",
    "## Extra Credit\n",
    "\n",
    "1. Improve the model further (test accuracy >=99.5%) <br>\n",
    "2. Fix the bug for the Keras MNIST sample code <br>\n",
    "https://github.com/keras-team/keras/blob/master/examples/mnist_cnn.py"
   ]
  },
  {
   "cell_type": "code",
   "execution_count": 1,
   "metadata": {},
   "outputs": [
    {
     "name": "stderr",
     "output_type": "stream",
     "text": [
      "/Library/Frameworks/Python.framework/Versions/3.5/lib/python3.5/importlib/_bootstrap.py:222: RuntimeWarning: compiletime version 3.6 of module 'tensorflow.python.framework.fast_tensor_util' does not match runtime version 3.5\n",
      "  return f(*args, **kwds)\n",
      "/Library/Frameworks/Python.framework/Versions/3.5/lib/python3.5/site-packages/h5py/__init__.py:36: FutureWarning: Conversion of the second argument of issubdtype from `float` to `np.floating` is deprecated. In future, it will be treated as `np.float64 == np.dtype(float).type`.\n",
      "  from ._conv import register_converters as _register_converters\n",
      "Using TensorFlow backend.\n"
     ]
    }
   ],
   "source": [
    "import numpy as np\n",
    "import os\n",
    "import gzip\n",
    "import struct\n",
    "import array\n",
    "import matplotlib.pyplot as plt\n",
    "import matplotlib.cm as cm\n",
    "import seaborn as sns\n",
    "import tensorflow as tf\n",
    "from keras.utils.np_utils import to_categorical\n",
    "from keras.models import Sequential\n",
    "from keras.layers import Dense, Dropout, Flatten, Conv2D, MaxPool2D\n",
    "from keras.optimizers import RMSprop\n",
    "from keras.preprocessing.image import ImageDataGenerator\n",
    "from keras.callbacks import ReduceLROnPlateau\n",
    "from keras.optimizers import Adam\n",
    "from sklearn.model_selection import ShuffleSplit\n",
    "from keras.models import load_model\n",
    "from sklearn.metrics import accuracy_score\n",
    "%matplotlib inline"
   ]
  },
  {
   "cell_type": "code",
   "execution_count": 2,
   "metadata": {
    "collapsed": true
   },
   "outputs": [],
   "source": [
    "#set seeds\n",
    "np.random.seed(123)"
   ]
  },
  {
   "cell_type": "markdown",
   "metadata": {},
   "source": [
    "### Data Loading"
   ]
  },
  {
   "cell_type": "code",
   "execution_count": 3,
   "metadata": {
    "collapsed": true
   },
   "outputs": [],
   "source": [
    "#relative PATH\n",
    "path ='../data/'"
   ]
  },
  {
   "cell_type": "code",
   "execution_count": 14,
   "metadata": {},
   "outputs": [],
   "source": [
    "# import self-defined functions\n",
    "import sys \n",
    "sys.path.append('../lib/') \n",
    "from parse import parse_images\n",
    "from parse import parse_labels\n",
    "from one_hot_encode import one_hot_encode"
   ]
  },
  {
   "cell_type": "code",
   "execution_count": 8,
   "metadata": {},
   "outputs": [],
   "source": [
    "#load gz files and encode dataset\n",
    "X_train_0 = parse_images(path +'train-images-idx3-ubyte.gz')\n",
    "y_train_0 = parse_labels(path +'train-labels-idx1-ubyte.gz')\n",
    "X_test_0 = parse_images(path +'t10k-images-idx3-ubyte.gz')\n",
    "y_test_0  = parse_labels(path +'t10k-labels-idx1-ubyte.gz')"
   ]
  },
  {
   "cell_type": "code",
   "execution_count": 9,
   "metadata": {
    "collapsed": true
   },
   "outputs": [],
   "source": [
    "y_train_0 =y_train_0.ravel()\n",
    "y_test_0 =y_test_0.ravel()"
   ]
  },
  {
   "cell_type": "code",
   "execution_count": 10,
   "metadata": {
    "collapsed": true
   },
   "outputs": [],
   "source": [
    "#pick last 10000 rows in train data as valid data\n",
    "train_data, valid_data = X_train_0[:-10000], X_train_0[-10000:]\n",
    "train_labels, valid_labels = y_train_0[:-10000], y_train_0[-10000:]"
   ]
  },
  {
   "cell_type": "code",
   "execution_count": 11,
   "metadata": {},
   "outputs": [
    {
     "data": {
      "image/png": "[encoded data removed]",
      "text/plain": [
       "<Figure size 432x288 with 1 Axes>"
      ]
     },
     "metadata": {},
     "output_type": "display_data"
    }
   ],
   "source": [
    "sns.set(style=\"darkgrid\")\n",
    "ax = sns.countplot(y_train_0)"
   ]
  },
  {
   "cell_type": "markdown",
   "metadata": {},
   "source": [
    "### Data Pre-processing"
   ]
  },
  {
   "cell_type": "code",
   "execution_count": 15,
   "metadata": {},
   "outputs": [],
   "source": [
    "#one-hot-encode for label\n",
    "y_train =one_hot_encode(train_labels)\n",
    "y_valid =one_hot_encode(valid_labels)\n",
    "y_test =one_hot_encode(y_test_0)"
   ]
  },
  {
   "cell_type": "code",
   "execution_count": 16,
   "metadata": {},
   "outputs": [
    {
     "name": "stdout",
     "output_type": "stream",
     "text": [
      "(50000, 10)\n",
      "(10000, 10)\n",
      "(10000, 10)\n"
     ]
    }
   ],
   "source": [
    "print(y_train.shape)\n",
    "print(y_valid.shape)\n",
    "print(y_test.shape)"
   ]
  },
  {
   "cell_type": "code",
   "execution_count": 17,
   "metadata": {
    "collapsed": true
   },
   "outputs": [],
   "source": [
    "#normalization for X\n",
    "#change [0:255] to [0:1]\n",
    "def normalize(x):\n",
    "    #image shape is (28,28)\n",
    "    return  (x - np.min(x)) / (np.max(x) - np.min(x))\n",
    "\n",
    "#X_train= np.multiply(X_train, 1.0 / 255.0)\n",
    "#X_test= np.multiply(X_test, 1.0 / 255.0)\n",
    "X_train_1 =normalize(train_data)\n",
    "X_valid_1 =normalize(valid_data)\n",
    "X_test_1 =normalize(X_test_0)"
   ]
  },
  {
   "cell_type": "code",
   "execution_count": 18,
   "metadata": {},
   "outputs": [
    {
     "name": "stdout",
     "output_type": "stream",
     "text": [
      "(50000, 28, 28)\n",
      "(10000, 28, 28)\n",
      "(10000, 28, 28)\n"
     ]
    }
   ],
   "source": [
    "print(X_train_1.shape)\n",
    "print(X_valid_1.shape)\n",
    "print(X_test_1.shape)"
   ]
  },
  {
   "cell_type": "code",
   "execution_count": 19,
   "metadata": {
    "collapsed": true
   },
   "outputs": [],
   "source": [
    "# reshape (60000,28,28) to (60000,28,28,1) shape \n",
    "X_train =X_train_1.reshape((-1, X_train_1.shape[1], X_train_1.shape[2], 1))\n",
    "X_valid =X_valid_1.reshape((-1, X_valid_1.shape[1], X_valid_1.shape[2], 1))\n",
    "X_test =X_test_1.reshape((-1, X_test_1.shape[1], X_test_1.shape[2], 1))"
   ]
  },
  {
   "cell_type": "code",
   "execution_count": 20,
   "metadata": {},
   "outputs": [
    {
     "name": "stdout",
     "output_type": "stream",
     "text": [
      "(50000, 28, 28, 1)\n",
      "(10000, 28, 28, 1)\n",
      "(10000, 28, 28, 1)\n"
     ]
    }
   ],
   "source": [
    "print(X_train.shape)\n",
    "print(X_valid.shape)\n",
    "print(X_test.shape)"
   ]
  },
  {
   "cell_type": "markdown",
   "metadata": {},
   "source": [
    "### Data Visualization (Train & Test Data)"
   ]
  },
  {
   "cell_type": "code",
   "execution_count": 21,
   "metadata": {},
   "outputs": [
    {
     "data": {
      "image/png": "[encoded data removed]",
      "text/plain": [
       "<Figure size 1440x720 with 10 Axes>"
      ]
     },
     "metadata": {},
     "output_type": "display_data"
    }
   ],
   "source": [
    "#show train dataset image\n",
    "plt.figure(figsize=(20,10))\n",
    "for i in range(10):\n",
    "    plt.subplot(1,10,1+i)\n",
    "    plt.imshow(train_data[i])"
   ]
  },
  {
   "cell_type": "code",
   "execution_count": 22,
   "metadata": {},
   "outputs": [
    {
     "data": {
      "image/png": "[encoded data removed]",
      "text/plain": [
       "<Figure size 1440x720 with 10 Axes>"
      ]
     },
     "metadata": {},
     "output_type": "display_data"
    }
   ],
   "source": [
    "#show valid dataset image\n",
    "plt.figure(figsize=(20,10))\n",
    "for i in range(10):\n",
    "    plt.subplot(1,10,1+i)\n",
    "    plt.imshow(valid_data[i])"
   ]
  },
  {
   "cell_type": "code",
   "execution_count": 23,
   "metadata": {},
   "outputs": [
    {
     "data": {
      "image/png": "[encoded data removed]",
      "text/plain": [
       "<Figure size 1440x720 with 10 Axes>"
      ]
     },
     "metadata": {},
     "output_type": "display_data"
    }
   ],
   "source": [
    "#show test dataset image\n",
    "plt.figure(figsize=(20,10))\n",
    "for i in range(10):\n",
    "    plt.subplot(1,10,1+i)\n",
    "    plt.imshow(X_test_0[i])"
   ]
  },
  {
   "cell_type": "markdown",
   "metadata": {},
   "source": [
    "### Build CNN Model (Use Keras)\n",
    "\n",
    "Follow the guide: <br>\n",
    "[A Guide to TF Layers: Building a Convolutional Neural Network](https://www.tensorflow.org/tutorials/layers)<br>\n",
    "https://blog.plon.io/tutorials/cifar-10-classification-using-keras-tutorial/"
   ]
  },
  {
   "cell_type": "code",
   "execution_count": 32,
   "metadata": {
    "collapsed": true
   },
   "outputs": [],
   "source": [
    "#set parameters\n",
    "input_shape =(28,28,1) #shape =(height,weight,channel)\n",
    "epochs = 40           #number of running\n",
    "batch_size =256       #batch size of running"
   ]
  },
  {
   "cell_type": "code",
   "execution_count": 33,
   "metadata": {},
   "outputs": [
    {
     "name": "stdout",
     "output_type": "stream",
     "text": [
      "_________________________________________________________________\n",
      "Layer (type)                 Output Shape              Param #   \n",
      "=================================================================\n",
      "conv2d_9 (Conv2D)            (None, 28, 28, 32)        832       \n",
      "_________________________________________________________________\n",
      "conv2d_10 (Conv2D)           (None, 28, 28, 32)        25632     \n",
      "_________________________________________________________________\n",
      "max_pooling2d_5 (MaxPooling2 (None, 14, 14, 32)        0         \n",
      "_________________________________________________________________\n",
      "dropout_7 (Dropout)          (None, 14, 14, 32)        0         \n",
      "_________________________________________________________________\n",
      "conv2d_11 (Conv2D)           (None, 14, 14, 64)        18496     \n",
      "_________________________________________________________________\n",
      "conv2d_12 (Conv2D)           (None, 14, 14, 64)        36928     \n",
      "_________________________________________________________________\n",
      "max_pooling2d_6 (MaxPooling2 (None, 7, 7, 64)          0         \n",
      "_________________________________________________________________\n",
      "dropout_8 (Dropout)          (None, 7, 7, 64)          0         \n",
      "_________________________________________________________________\n",
      "flatten_3 (Flatten)          (None, 3136)              0         \n",
      "_________________________________________________________________\n",
      "dense_5 (Dense)              (None, 256)               803072    \n",
      "_________________________________________________________________\n",
      "dropout_9 (Dropout)          (None, 256)               0         \n",
      "_________________________________________________________________\n",
      "dense_6 (Dense)              (None, 10)                2570      \n",
      "=================================================================\n",
      "Total params: 887,530\n",
      "Trainable params: 887,530\n",
      "Non-trainable params: 0\n",
      "_________________________________________________________________\n"
     ]
    }
   ],
   "source": [
    "#build keras CNN model\n",
    "model = Sequential()\n",
    "\n",
    "#1st layer\n",
    "model.add(Conv2D(filters = 32, kernel_size = (5,5),padding = 'Same', \n",
    "                 activation ='relu', input_shape = input_shape))\n",
    "model.add(Conv2D(filters = 32, kernel_size = (5,5),padding = 'Same', \n",
    "                 activation ='relu'))\n",
    "model.add(MaxPool2D(pool_size=(2,2)))\n",
    "model.add(Dropout(0.25))\n",
    "\n",
    "#2nd layer\n",
    "model.add(Conv2D(filters = 64, kernel_size = (3,3),padding = 'Same', \n",
    "                 activation ='relu'))\n",
    "model.add(Conv2D(filters = 64, kernel_size = (3,3),padding = 'Same', \n",
    "                 activation ='relu'))\n",
    "model.add(MaxPool2D(pool_size=(2,2), strides=(2,2)))\n",
    "model.add(Dropout(0.25))\n",
    "\n",
    "#flatten\n",
    "model.add(Flatten())\n",
    "\n",
    "#add dense\n",
    "model.add(Dense(256, activation = \"relu\"))\n",
    "model.add(Dropout(0.50))\n",
    "model.add(Dense(10, activation = \"softmax\"))\n",
    "\n",
    "#set up learning_rate \n",
    "model.compile(optimizer = RMSprop() , loss = \"categorical_crossentropy\", metrics=[\"accuracy\"])\n",
    "\n",
    "model.summary()"
   ]
  },
  {
   "cell_type": "code",
   "execution_count": 34,
   "metadata": {
    "collapsed": true
   },
   "outputs": [],
   "source": [
    "learning_rate_reduction = ReduceLROnPlateau(monitor='val_acc', \n",
    "                                            patience=3, \n",
    "                                            verbose=1, \n",
    "                                            factor=0.5, \n",
    "                                            min_lr=0.0001)"
   ]
  },
  {
   "cell_type": "code",
   "execution_count": null,
   "metadata": {
    "collapsed": true
   },
   "outputs": [],
   "source": [
    "# Data augmentation\n",
    "\n",
    "datagen = ImageDataGenerator(\n",
    "        featurewise_center=False,  # set input mean to 0 over the dataset\n",
    "        samplewise_center=False,  # set each sample mean to 0\n",
    "        featurewise_std_normalization=False,  # divide inputs by std of the dataset\n",
    "        samplewise_std_normalization=False,  # divide each input by its std\n",
    "        zca_whitening=False,  # apply ZCA whitening\n",
    "        rotation_range=10,  # randomly rotate images in the range (degrees, 0 to 180)\n",
    "        zoom_range = 0.1, # Randomly zoom image \n",
    "        width_shift_range=0.1,  # randomly shift images horizontally (fraction of total width)\n",
    "        height_shift_range=0.1,  # randomly shift images vertically (fraction of total height)\n",
    "        horizontal_flip=False,  # randomly flip images\n",
    "        vertical_flip=False)  # randomly flip images\n",
    "\n",
    "datagen.fit(X_train)"
   ]
  },
  {
   "cell_type": "code",
   "execution_count": 36,
   "metadata": {},
   "outputs": [
    {
     "name": "stdout",
     "output_type": "stream",
     "text": [
      "Epoch 1/40\n",
      "195/195 [==============================] - 10s - loss: 0.5378 - acc: 0.8279 - val_loss: 0.0806 - val_acc: 0.9740\n",
      "Epoch 2/40\n",
      "195/195 [==============================] - 10s - loss: 0.1610 - acc: 0.9516 - val_loss: 0.0370 - val_acc: 0.9878\n",
      "Epoch 3/40\n",
      "195/195 [==============================] - 10s - loss: 0.1095 - acc: 0.9666 - val_loss: 0.0313 - val_acc: 0.9904\n",
      "Epoch 4/40\n",
      "195/195 [==============================] - 10s - loss: 0.0896 - acc: 0.9727 - val_loss: 0.0329 - val_acc: 0.9905\n",
      "Epoch 5/40\n",
      "195/195 [==============================] - 10s - loss: 0.0774 - acc: 0.9775 - val_loss: 0.0233 - val_acc: 0.9924\n",
      "Epoch 6/40\n",
      "195/195 [==============================] - 11s - loss: 0.0688 - acc: 0.9789 - val_loss: 0.0257 - val_acc: 0.9922\n",
      "Epoch 7/40\n",
      "195/195 [==============================] - 10s - loss: 0.0679 - acc: 0.9799 - val_loss: 0.0219 - val_acc: 0.9936\n",
      "Epoch 8/40\n",
      "195/195 [==============================] - 11s - loss: 0.0581 - acc: 0.9823 - val_loss: 0.0217 - val_acc: 0.9935\n",
      "Epoch 9/40\n",
      "195/195 [==============================] - 10s - loss: 0.0585 - acc: 0.9828 - val_loss: 0.0212 - val_acc: 0.9938\n",
      "Epoch 10/40\n",
      "195/195 [==============================] - 10s - loss: 0.0572 - acc: 0.9834 - val_loss: 0.0214 - val_acc: 0.9932\n",
      "Epoch 11/40\n",
      "195/195 [==============================] - 10s - loss: 0.0562 - acc: 0.9834 - val_loss: 0.0203 - val_acc: 0.9947\n",
      "Epoch 12/40\n",
      "195/195 [==============================] - 10s - loss: 0.0516 - acc: 0.9844 - val_loss: 0.0268 - val_acc: 0.9929\n",
      "Epoch 13/40\n",
      "195/195 [==============================] - 10s - loss: 0.0483 - acc: 0.9855 - val_loss: 0.0194 - val_acc: 0.9942\n",
      "Epoch 14/40\n",
      "195/195 [==============================] - 10s - loss: 0.0473 - acc: 0.9862 - val_loss: 0.0215 - val_acc: 0.9938\n",
      "Epoch 15/40\n",
      "194/195 [============================>.] - ETA: 0s - loss: 0.0473 - acc: 0.9856\n",
      "Epoch 00014: reducing learning rate to 0.0005000000237487257.\n",
      "195/195 [==============================] - 10s - loss: 0.0473 - acc: 0.9855 - val_loss: 0.0210 - val_acc: 0.9943\n",
      "Epoch 16/40\n",
      "195/195 [==============================] - 11s - loss: 0.0402 - acc: 0.9881 - val_loss: 0.0206 - val_acc: 0.9945\n",
      "Epoch 17/40\n",
      "195/195 [==============================] - 10s - loss: 0.0359 - acc: 0.9892 - val_loss: 0.0207 - val_acc: 0.9942\n",
      "Epoch 18/40\n",
      "195/195 [==============================] - 10s - loss: 0.0358 - acc: 0.9896 - val_loss: 0.0178 - val_acc: 0.9957\n",
      "Epoch 19/40\n",
      "195/195 [==============================] - 10s - loss: 0.0384 - acc: 0.9886 - val_loss: 0.0178 - val_acc: 0.9946\n",
      "Epoch 20/40\n",
      "195/195 [==============================] - 10s - loss: 0.0368 - acc: 0.9893 - val_loss: 0.0162 - val_acc: 0.9957\n",
      "Epoch 21/40\n",
      "195/195 [==============================] - 10s - loss: 0.0372 - acc: 0.9889 - val_loss: 0.0174 - val_acc: 0.9949\n",
      "Epoch 22/40\n",
      "194/195 [============================>.] - ETA: 0s - loss: 0.0346 - acc: 0.9896\n",
      "Epoch 00021: reducing learning rate to 0.0002500000118743628.\n",
      "195/195 [==============================] - 10s - loss: 0.0346 - acc: 0.9896 - val_loss: 0.0184 - val_acc: 0.9949\n",
      "Epoch 23/40\n",
      "195/195 [==============================] - 11s - loss: 0.0314 - acc: 0.9911 - val_loss: 0.0173 - val_acc: 0.9956\n",
      "Epoch 24/40\n",
      "195/195 [==============================] - 10s - loss: 0.0311 - acc: 0.9899 - val_loss: 0.0160 - val_acc: 0.9962\n",
      "Epoch 25/40\n",
      "195/195 [==============================] - 10s - loss: 0.0288 - acc: 0.9915 - val_loss: 0.0171 - val_acc: 0.9955\n",
      "Epoch 26/40\n",
      "195/195 [==============================] - 10s - loss: 0.0295 - acc: 0.9911 - val_loss: 0.0169 - val_acc: 0.9959\n",
      "Epoch 27/40\n",
      "195/195 [==============================] - 10s - loss: 0.0308 - acc: 0.9913 - val_loss: 0.0182 - val_acc: 0.9948\n",
      "Epoch 28/40\n",
      "194/195 [============================>.] - ETA: 0s - loss: 0.0317 - acc: 0.9907\n",
      "Epoch 00027: reducing learning rate to 0.0001250000059371814.\n",
      "195/195 [==============================] - 10s - loss: 0.0317 - acc: 0.9907 - val_loss: 0.0162 - val_acc: 0.9956\n",
      "Epoch 29/40\n",
      "195/195 [==============================] - 10s - loss: 0.0293 - acc: 0.9911 - val_loss: 0.0180 - val_acc: 0.9952\n",
      "Epoch 30/40\n",
      "195/195 [==============================] - 10s - loss: 0.0288 - acc: 0.9917 - val_loss: 0.0160 - val_acc: 0.9958\n",
      "Epoch 31/40\n",
      "193/195 [============================>.] - ETA: 0s - loss: 0.0278 - acc: 0.9917- ETA:\n",
      "Epoch 00030: reducing learning rate to 0.0001.\n",
      "195/195 [==============================] - 10s - loss: 0.0277 - acc: 0.9917 - val_loss: 0.0169 - val_acc: 0.9953\n",
      "Epoch 32/40\n",
      "195/195 [==============================] - 10s - loss: 0.0289 - acc: 0.9915 - val_loss: 0.0167 - val_acc: 0.9957\n",
      "Epoch 33/40\n",
      "195/195 [==============================] - 10s - loss: 0.0276 - acc: 0.9916 - val_loss: 0.0161 - val_acc: 0.9955\n",
      "Epoch 34/40\n",
      "195/195 [==============================] - 10s - loss: 0.0275 - acc: 0.9917 - val_loss: 0.0162 - val_acc: 0.9959\n",
      "Epoch 35/40\n",
      "195/195 [==============================] - 10s - loss: 0.0278 - acc: 0.9916 - val_loss: 0.0152 - val_acc: 0.9959\n",
      "Epoch 36/40\n",
      "195/195 [==============================] - 10s - loss: 0.0275 - acc: 0.9921 - val_loss: 0.0152 - val_acc: 0.9959\n",
      "Epoch 37/40\n",
      "195/195 [==============================] - 10s - loss: 0.0283 - acc: 0.9916 - val_loss: 0.0160 - val_acc: 0.9957\n",
      "Epoch 38/40\n",
      "195/195 [==============================] - 10s - loss: 0.0272 - acc: 0.9920 - val_loss: 0.0159 - val_acc: 0.9960\n",
      "Epoch 39/40\n",
      "195/195 [==============================] - 10s - loss: 0.0262 - acc: 0.9921 - val_loss: 0.0158 - val_acc: 0.9957\n",
      "Epoch 40/40\n",
      "195/195 [==============================] - 10s - loss: 0.0269 - acc: 0.9924 - val_loss: 0.0153 - val_acc: 0.9958\n"
     ]
    }
   ],
   "source": [
    "# Fit the model\n",
    "history = model.fit_generator(datagen.flow(X_train,y_train, batch_size=batch_size),\n",
    "                              epochs = epochs, validation_data = (X_valid,y_valid),\n",
    "                              verbose = 1, steps_per_epoch=X_train.shape[0] // batch_size\n",
    "                              , callbacks=[learning_rate_reduction],)"
   ]
  },
  {
   "cell_type": "code",
   "execution_count": 37,
   "metadata": {
    "collapsed": true
   },
   "outputs": [],
   "source": [
    "# save best model in your local file (No need to re-run the whole model)\n",
    "# https://keras.io/getting-started/faq/#how-can-i-save-a-keras-model\n",
    "best_model = model.model.save('bestmodel.h5') "
   ]
  },
  {
   "cell_type": "code",
   "execution_count": 38,
   "metadata": {},
   "outputs": [
    {
     "data": {
      "image/png": "[encoded data removed]",
      "text/plain": [
       "<matplotlib.figure.Figure at 0x7f3bd0ddcf98>"
      ]
     },
     "metadata": {},
     "output_type": "display_data"
    }
   ],
   "source": [
    "plt.title('Train and Valid Accuracy')\n",
    "plt.plot(history.history['acc'], color='#F98989',label=\"Train Data\")\n",
    "plt.plot(history.history['val_acc'], color='#3784E8',label=\"Valid Data\")\n",
    "plt.legend()\n",
    "plt.show()"
   ]
  },
  {
   "cell_type": "code",
   "execution_count": 39,
   "metadata": {},
   "outputs": [
    {
     "data": {
      "image/png": "[encoded data removed]",
      "text/plain": [
       "<matplotlib.figure.Figure at 0x7f3bd0d5f6d8>"
      ]
     },
     "metadata": {},
     "output_type": "display_data"
    }
   ],
   "source": [
    "plt.title('Train and Valid Loss')\n",
    "plt.plot(history.history['loss'], color='#F98989',label=\"Train Loss\")\n",
    "plt.plot(history.history['val_loss'], color='#3784E8',label=\"Valid Loss\")\n",
    "plt.legend()\n",
    "plt.show()"
   ]
  },
  {
   "cell_type": "code",
   "execution_count": 40,
   "metadata": {},
   "outputs": [
    {
     "name": "stdout",
     "output_type": "stream",
     "text": [
      " 9984/10000 [============================>.] - ETA: 0s"
     ]
    }
   ],
   "source": [
    "# predict test data\n",
    "predicted_classes = model.predict_classes(X_test)\n",
    "test_acc =accuracy_score(y_test_0, predicted_classes)"
   ]
  },
  {
   "cell_type": "code",
   "execution_count": 41,
   "metadata": {},
   "outputs": [
    {
     "name": "stdout",
     "output_type": "stream",
     "text": [
      "Get Extra Credit !!\n",
      "MNIST Test Dataset Accuracy = 99.7%\n"
     ]
    }
   ],
   "source": [
    "if test_acc >= 0.995:\n",
    "    print('Get Extra Credit !!') \n",
    "    print('MNIST Test Dataset Accuracy = {}%'.format(100*round(test_acc,3)))\n",
    "else:\n",
    "    print('Not reach above 99.5% accuracy !')\n",
    "    print('Need to Adjust Your Parameters !')"
   ]
  },
  {
   "cell_type": "code",
   "execution_count": 42,
   "metadata": {
    "collapsed": true
   },
   "outputs": [],
   "source": [
    "# load the saved model in local drive\n",
    "# Skip the previous part\n",
    "\n",
    "#best_model2 = load_model('bestmodel.h5') \n",
    "\n",
    "# verify test results\n",
    "#y_score = best_model2.predict(X_test)\n",
    "#y_pred =np.argmax(y_score, axis=1) #max value index =actual class\n",
    "#test_acc_verify =accuracy_score(y_test_0, y_pred)"
   ]
  },
  {
   "cell_type": "code",
   "execution_count": 43,
   "metadata": {},
   "outputs": [
    {
     "name": "stdout",
     "output_type": "stream",
     "text": [
      "Test Data - Accuracy Verify: 99.7%\n"
     ]
    }
   ],
   "source": [
    "#print('Test Data - Accuracy Verify: {}%'.format(100*round(test_acc_verify,3)))"
   ]
  },
  {
   "cell_type": "code",
   "execution_count": null,
   "metadata": {
    "collapsed": true
   },
   "outputs": [],
   "source": []
  }
 ],
 "metadata": {
  "kernelspec": {
   "display_name": "Python 3",
   "language": "python",
   "name": "python3"
  },
  "language_info": {
   "codemirror_mode": {
    "name": "ipython",
    "version": 3
   },
   "file_extension": ".py",
   "mimetype": "text/x-python",
   "name": "python",
   "nbconvert_exporter": "python",
   "pygments_lexer": "ipython3",
   "version": "3.5.2"
  }
 },
 "nbformat": 4,
 "nbformat_minor": 2
}
